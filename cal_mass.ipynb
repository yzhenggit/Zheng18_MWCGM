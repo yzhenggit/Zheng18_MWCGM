{
 "cells": [
  {
   "cell_type": "code",
   "execution_count": 2,
   "metadata": {},
   "outputs": [],
   "source": [
    "import astropy.units as u\n",
    "import astropy.constants as const\n",
    "import numpy as np"
   ]
  },
  {
   "cell_type": "code",
   "execution_count": 3,
   "metadata": {},
   "outputs": [
    {
     "name": "stdout",
     "output_type": "stream",
     "text": [
      "SiIV mass: 1.8e+05 Msun\n",
      "Total mass: 3.1e+09 Msun\n"
     ]
    }
   ],
   "source": [
    "R_CGM = 75*const.kpc\n",
    "\n",
    "N_cgm = 3.4e13/(u.cm)**2 ## the mean global component \n",
    "\n",
    "M_CGM_SiIV = (4*np.pi/3*(R_CGM**3)*(N_cgm/R_CGM)*(28*const.m_p.cgs)).to(u.solMass)\n",
    "print('SiIV mass: %.1e Msun'%(M_CGM_SiIV.value))\n",
    "\n",
    "## now convert it to total mass \n",
    "Z = 0.3\n",
    "f = 0.3\n",
    "Si_H  = 10**(-4.49)\n",
    "M_CGM = 1.4*M_CGM_SiIV /28 / f / Si_H / Z\n",
    "\n",
    "print('Total mass: %.1e Msun'%(M_CGM.value))"
   ]
  },
  {
   "cell_type": "code",
   "execution_count": 4,
   "metadata": {},
   "outputs": [
    {
     "name": "stdout",
     "output_type": "stream",
     "text": [
      "SiIV mass: 2.8e+05 Msun\n",
      "Total mass: 4.7e+09 Msun\n"
     ]
    }
   ],
   "source": [
    "# To account for the hidden low-vel mass as seen in simulation\n",
    "print('SiIV mass: %.1e Msun'%(M_CGM_SiIV.value/0.65))\n",
    "print('Total mass: %.1e Msun'%(M_CGM.value/0.65))"
   ]
  },
  {
   "cell_type": "code",
   "execution_count": 5,
   "metadata": {},
   "outputs": [
    {
     "data": {
      "text/plain": [
       "(2.021484375, 0.94482421875)"
      ]
     },
     "execution_count": 5,
     "metadata": {},
     "output_type": "execute_result"
    }
   ],
   "source": [
    "9.2*(75/160)**2, 4.3*(75/160)**2"
   ]
  },
  {
   "cell_type": "code",
   "execution_count": 45,
   "metadata": {},
   "outputs": [
    {
     "data": {
      "text/latex": [
       "$2.0132229 \\times 10^{8} \\; \\mathrm{M_{\\odot}}$"
      ],
      "text/plain": [
       "<Quantity 201322287.6441872 solMass>"
      ]
     },
     "execution_count": 45,
     "metadata": {},
     "output_type": "execute_result"
    }
   ],
   "source": [
    "## Get N. Lehner's M31 mass from their Si mass \n",
    "Mgas = (np.pi * (50*const.kpc)**2 * 7.4e13/(u.cm)**2 * 1.4 / Si_H * const.m_p.cgs).cgs\n",
    "Mgas.cgs.to(u.solMass)"
   ]
  },
  {
   "cell_type": "code",
   "execution_count": 46,
   "metadata": {},
   "outputs": [
    {
     "data": {
      "text/latex": [
       "$1.5099172 \\times 10^{9} \\; \\mathrm{M_{\\odot}}$"
      ],
      "text/plain": [
       "<Quantity 1509917157.3314044 solMass>"
      ]
     },
     "execution_count": 46,
     "metadata": {},
     "output_type": "execute_result"
    }
   ],
   "source": [
    "(Mgas * (75/50)**2 / (0.3)).to(u.solMass)"
   ]
  },
  {
   "cell_type": "code",
   "execution_count": null,
   "metadata": {
    "collapsed": true
   },
   "outputs": [],
   "source": []
  }
 ],
 "metadata": {
  "kernelspec": {
   "display_name": "Python 3",
   "language": "python",
   "name": "python3"
  },
  "language_info": {
   "codemirror_mode": {
    "name": "ipython",
    "version": 3
   },
   "file_extension": ".py",
   "mimetype": "text/x-python",
   "name": "python",
   "nbconvert_exporter": "python",
   "pygments_lexer": "ipython3",
   "version": "3.6.6"
  }
 },
 "nbformat": 4,
 "nbformat_minor": 2
}
