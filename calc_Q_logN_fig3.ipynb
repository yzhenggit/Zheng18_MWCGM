{
 "cells": [
  {
   "cell_type": "markdown",
   "metadata": {},
   "source": [
    "Try to make each cell run independently"
   ]
  },
  {
   "cell_type": "code",
   "execution_count": 1,
   "metadata": {},
   "outputs": [],
   "source": [
    "%matplotlib inline\n",
    "import numpy as np\n",
    "from astropy.table import Table\n",
    "import astropy.io.fits as fits\n",
    "import matplotlib.pyplot as plt\n",
    "from tqdm import *\n",
    "import os\n",
    "\n",
    "# yztools is another repo at github.com/yzhenggit\n",
    "from yztools.vhelio2vlsr import vhelio2vlsr_Westmeier\n",
    "from yztools.bin_spec import bin_spec"
   ]
  },
  {
   "cell_type": "markdown",
   "metadata": {},
   "source": [
    "### Sect 2: Set SNR>=5 limit to select those good QSOs to use "
   ]
  },
  {
   "cell_type": "code",
   "execution_count": 2,
   "metadata": {},
   "outputs": [],
   "source": [
    "qtb = Table.read('tables/SiIV_QSO_visuallygood290.txt', format='ascii')\n",
    "specdir = 'cos-gal_mast_hlsp/spectra'"
   ]
  },
  {
   "cell_type": "code",
   "execution_count": 3,
   "metadata": {},
   "outputs": [
    {
     "name": "stderr",
     "output_type": "stream",
     "text": [
      "100%|██████████| 290/290 [00:09<00:00, 30.34it/s]\n"
     ]
    }
   ],
   "source": [
    "from yzSpec.get_snr import get_snr\n",
    "snr_cont = np.zeros(len(qtb))\n",
    "snr_flux = np.zeros(len(qtb))\n",
    "\n",
    "for iq in tqdm(range(len(qtb))):\n",
    "    qname = qtb['ID'][iq]\n",
    "    qsodir = '%s/%s/'%(specdir, qname.lower())\n",
    "    for ifile in os.listdir(qsodir):\n",
    "        if ifile[-7:] == 'fits.gz' and 'g130m' in ifile:\n",
    "            specfile = ifile\n",
    "            break\n",
    "    # print(qname, specfile)\n",
    "    data = fits.getdata(qsodir+specfile)\n",
    "    snrss= get_snr(data, 1394, 1401, has_continuum=True)\n",
    "    snr_flux[iq] = snrss[0]\n",
    "    snr_cont[iq] = snrss[1]\n",
    "\n",
    "# next time, just read in the table, no need to run this cell again. \n",
    "# np.save('tables/fig1/fig1_visuallygood290_rawsnrcut.npy', np.asarray([snr_flux, snr_cont]))"
   ]
  },
  {
   "cell_type": "code",
   "execution_count": 4,
   "metadata": {},
   "outputs": [],
   "source": [
    "# data = np.load('tables/fig1/fig1_visuallygood290_rawsnrcut.npy')\n",
    "#snr_flux = data[0]\n",
    "#snr_cont = data[1]"
   ]
  },
  {
   "cell_type": "code",
   "execution_count": 5,
   "metadata": {},
   "outputs": [
    {
     "name": "stdout",
     "output_type": "stream",
     "text": [
      "SNR limit at 5, good 132, bad 158\n"
     ]
    }
   ],
   "source": [
    "snr_limit = 5\n",
    "qtb_good = qtb[snr_cont >= snr_limit]\n",
    "snr_good = snr_cont[snr_cont >= snr_limit]\n",
    "\n",
    "qtb_bad = qtb[snr_cont<snr_limit]\n",
    "snr_bad = snr_cont[snr_cont<snr_limit]\n",
    "print('SNR limit at %d, good %d, bad %d'%(snr_limit, len(qtb_good), len(qtb_bad)))"
   ]
  },
  {
   "cell_type": "markdown",
   "metadata": {},
   "source": [
    "Find those sightlines with SiIV1393 saturated "
   ]
  },
  {
   "cell_type": "code",
   "execution_count": 6,
   "metadata": {},
   "outputs": [
    {
     "name": "stderr",
     "output_type": "stream",
     "text": [
      "44it [00:00, 20.09it/s]"
     ]
    },
    {
     "name": "stdout",
     "output_type": "stream",
     "text": [
      "15 3C273 0.08730045209328334\n"
     ]
    },
    {
     "name": "stderr",
     "output_type": "stream",
     "text": [
      "75it [00:00, 35.92it/s]"
     ]
    },
    {
     "name": "stdout",
     "output_type": "stream",
     "text": [
      "54 MRK841 0.0946748120089372\n",
      "62 PDS456 0.010543085324267546\n"
     ]
    },
    {
     "name": "stderr",
     "output_type": "stream",
     "text": [
      "132it [00:01, 127.93it/s]\n"
     ]
    }
   ],
   "source": [
    "# check the continuum fitting for every QSO \n",
    "tag_good = np.zeros(len(qtb_good)) # 0 for resolved, 1 for sat in 1393\n",
    "for iq, iqtb in tqdm(enumerate(qtb_good)):  # only deal with those with SNR>=5 \n",
    "    qname = iqtb['ID']\n",
    "    qsodir = '%s/%s/linedata_uv/'%(specdir, qname.lower())\n",
    "    for ifile in os.listdir(qsodir):\n",
    "        if 'si-iv-1393' in ifile:\n",
    "            specfile = ifile\n",
    "            break\n",
    "            \n",
    "    data = fits.getdata(qsodir+specfile)\n",
    "    vcorr = vhelio2vlsr_Westmeier(0, iqtb['l'], iqtb['b'], doradec=False)\n",
    "    vel = data['VELOCITY']+vcorr\n",
    "    nflux = data['NORMFLUX']\n",
    "    nerr = data['NORMERR']\n",
    "    ind = np.all([vel>=-110, vel<=110], axis=0)\n",
    "    vel = vel[ind]\n",
    "    nflux = nflux[ind]\n",
    "    \n",
    "    xx, yy = bin_spec(vel, nflux, 3)\n",
    "    fmin = np.nanmin(yy)\n",
    "    \n",
    "    if fmin <= 0.1: \n",
    "        tag = 1\n",
    "        print(iq, qname, fmin)\n",
    "        tag_good[iq] = tag"
   ]
  },
  {
   "cell_type": "markdown",
   "metadata": {},
   "source": [
    "Calculate the NAOD within +/-100 km/s for the doublet, and compare the difference "
   ]
  },
  {
   "cell_type": "code",
   "execution_count": 7,
   "metadata": {},
   "outputs": [],
   "source": [
    "import numpy as np\n",
    "import astropy.io.fits as fits\n",
    "from yzSpec.cal_NAOD import nv_aodm\n",
    "\n",
    "def read_ionline(ql, qb, specfile):\n",
    "    spec = fits.open(specfile)\n",
    "    flux = spec[1].data['NORMFLUX']\n",
    "    err = spec[1].data['NORMERR']\n",
    "\n",
    "    from yztools.vhelio2vlsr import vhelio2vlsr_Westmeier\n",
    "    vcorr = vhelio2vlsr_Westmeier(0, ql, qb, doradec=False)\n",
    "    vlsr = spec[1].data['VELOCITY']+vcorr\n",
    "    return vlsr, flux, err\n",
    "\n",
    "def cal_N_Vcent(ql, qb, specfile, ionline, vmin=-100, vmax=100):\n",
    "\n",
    "    vlsr, flux, err = read_ionline(ql, qb, specfile)\n",
    "    \n",
    "    nv, nverr = nv_aodm(flux, err, ionline)\n",
    "\n",
    "    # ok, this one is completely ok, no need to adjust for low or high velocity. 01/05/2018\n",
    "    delv = np.fabs(np.mean(vlsr[1:] - vlsr[:-1]))\n",
    "\n",
    "    ind = np.all([vlsr>=vmin, vlsr<=vmax], axis=0)\n",
    "    finite = np.all([np.isfinite(nv), np.isfinite(nverr)], axis=0)\n",
    "    vlsr = vlsr[np.all([ind, finite], axis=0)]\n",
    "    nv = nv[np.all([ind, finite], axis=0)]\n",
    "    nverr = nverr[np.all([ind, finite], axis=0)]\n",
    "\n",
    "    colN = (nv*delv).sum()                   # checked\n",
    "    colNerr = np.sqrt(np.sum((nverr*delv)**2))   # checked\n",
    "\n",
    "    # centroid velocity                            # checked \n",
    "    vc = (vlsr*nv*delv).sum()/colN\n",
    "    pA = (vlsr*nv*delv).sum()\n",
    "    sigpA = np.sqrt(np.sum((vlsr*nverr*delv)**2))\n",
    "    vcerr = np.fabs(vc)*np.sqrt((sigpA/pA)**2 + (colNerr/colN)**2)\n",
    "\n",
    "    # second moment, Doppler width\n",
    "    b_dp = np.sqrt(((vlsr-vc)**2*nv*delv).sum()/colN)\n",
    "    b_dp_err = np.nan\n",
    "\n",
    "    return colN, colNerr, vc, vcerr, b_dp, b_dp_err"
   ]
  },
  {
   "cell_type": "code",
   "execution_count": 8,
   "metadata": {},
   "outputs": [
    {
     "name": "stderr",
     "output_type": "stream",
     "text": [
      " 39%|███▊      | 51/132 [00:00<00:01, 79.75it/s]/anaconda3/lib/python3.6/site-packages/ipykernel_launcher.py:40: RuntimeWarning: invalid value encountered in sqrt\n",
      "100%|██████████| 132/132 [00:01<00:00, 81.61it/s]\n"
     ]
    }
   ],
   "source": [
    "qN = np.zeros((len(qtb_good), 2))\n",
    "qNerr = np.zeros(qN.shape)\n",
    "\n",
    "qlogN = np.zeros(qN.shape)\n",
    "qlogNerr = np.zeros(qN.shape)\n",
    "\n",
    "qV = np.zeros(qN.shape)\n",
    "qVerr = np.zeros(qN.shape)\n",
    "\n",
    "qbv = np.zeros(qN.shape)\n",
    "qbverr = np.zeros(qN.shape)\n",
    "\n",
    "for iq in tqdm(range(len(qtb_good))):\n",
    "    qname, iql, iqb = qtb_good['ID'][iq], qtb_good['l'][iq], qtb_good['b'][iq]\n",
    "    \n",
    "    # for 1393\n",
    "    qsodir = '%s/%s/linedata_uv/'%(specdir, qname.lower())\n",
    "    for ifile in os.listdir(qsodir):\n",
    "        if 'si-iv-1393' in ifile:\n",
    "            specfile = ifile\n",
    "            break\n",
    "    specfile = qsodir+specfile\n",
    "    colvel = cal_N_Vcent(iql, iqb, specfile, 'SiIV1393', vmin=-100, vmax=100)\n",
    "    qN[iq, 0] = colvel[0]\n",
    "    qNerr[iq, 0] = colvel[1]\n",
    "        \n",
    "    qlogN[iq, 0] = np.log10(colvel[0])\n",
    "    qlogNerr[iq, 0] = colvel[1]/colvel[0]/np.log(10)\n",
    "        \n",
    "    qV[iq, 0] = colvel[2]\n",
    "    qVerr[iq, 0] = colvel[3]\n",
    "        \n",
    "    qbv[iq, 0] = colvel[4]\n",
    "    \n",
    "    # for SiIV 1402\n",
    "    for ifile in os.listdir(qsodir):\n",
    "        if 'si-iv-1402' in ifile:\n",
    "            specfile = ifile\n",
    "            break\n",
    "    specfile = qsodir+specfile\n",
    "    colvel = cal_N_Vcent(iql, iqb, specfile, 'SiIV1402', vmin=-100, vmax=100)\n",
    "    qN[iq, 1] = colvel[0]\n",
    "    qNerr[iq, 1] = colvel[1]\n",
    "        \n",
    "    qlogN[iq, 1] = np.log10(colvel[0])\n",
    "    qlogNerr[iq, 1] = colvel[1]/colvel[0]/np.log(10)\n",
    "        \n",
    "    qV[iq, 1] = colvel[2]\n",
    "    qVerr[iq, 1] = colvel[3]\n",
    "        \n",
    "    qbv[iq, 1] = colvel[4]"
   ]
  },
  {
   "cell_type": "code",
   "execution_count": 9,
   "metadata": {},
   "outputs": [
    {
     "name": "stderr",
     "output_type": "stream",
     "text": [
      "/anaconda3/lib/python3.6/site-packages/matplotlib/cbook/__init__.py:424: MatplotlibDeprecationWarning: \n",
      "Passing one of 'on', 'true', 'off', 'false' as a boolean is deprecated; use an actual boolean (True/False) instead.\n",
      "  warn_deprecated(\"2.2\", \"Passing one of 'on', 'true', 'off', 'false' as a \"\n"
     ]
    },
    {
     "data": {
      "image/png": "[encoded data removed]",
      "text/plain": [
       "<Figure size 360x216 with 2 Axes>"
      ]
     },
     "metadata": {
      "needs_background": "light"
     },
     "output_type": "display_data"
    }
   ],
   "source": [
    "plt.figure(figsize=(5, 3))\n",
    "plt.subplot(121)\n",
    "plt.scatter(qtb_good['l'], qlogN[:, 0], s=10)\n",
    "plt.xlabel('Glon')\n",
    "plt.ylabel('logN (1393)')\n",
    "plt.ylim(12.8, 14.2)\n",
    "plt.grid('on')\n",
    "\n",
    "plt.subplot(122)\n",
    "plt.scatter(qtb_good['b'], qlogN[:, 0], s=10)\n",
    "plt.xlabel('Glat')\n",
    "plt.ylim(12.8, 14.2)\n",
    "plt.grid('on')\n",
    "plt.tight_layout()"
   ]
  },
  {
   "cell_type": "code",
   "execution_count": 10,
   "metadata": {},
   "outputs": [
    {
     "name": "stdout",
     "output_type": "stream",
     "text": [
      "119 11 2\n"
     ]
    }
   ],
   "source": [
    "delN = qlogN[:, 1] - qlogN[:, 0]\n",
    "delN_err = np.sqrt(qlogNerr[:, 0]**2 + qlogNerr[:, 1]**2)\n",
    "# delN_err = logNerr[:, 0]+logNerr[:, 1] # wakker use this \n",
    "nsig = delN/delN_err\n",
    "\n",
    "ntag = np.zeros(nsig.size)\n",
    "ntag[nsig>1] = 1          # N1402>N1393+sigma\n",
    "ntag[tag_good == 1] = 1   # COS sat <= 0.1 \n",
    "\n",
    "ntag[nsig<-1] = -1\n",
    "\n",
    "print(ntag[ntag==0].size, ntag[ntag==1].size, ntag[ntag==-1].size)"
   ]
  },
  {
   "cell_type": "code",
   "execution_count": 11,
   "metadata": {},
   "outputs": [
    {
     "name": "stdout",
     "output_type": "stream",
     "text": [
      "nid      ID        RA      DEC       l        b      S/N    z   MM_Ep130 N_Ep130\n",
      "--- ----------- -------- -------- -------- -------- ----- ----- -------- -------\n",
      " 28       3C273 187.2779   2.0524 289.9508    64.36 105.7 0.158      0.0       7\n",
      "145 PKS0405-123  61.9518 -12.1935 204.9271 -41.7563  78.2 0.572      4.6      18\n",
      "[[14.20869856 13.81977701]\n",
      " [13.45619019 13.24754954]]\n",
      "[[0.01055645 0.0026045 ]\n",
      " [0.00618124 0.01849297]]\n"
     ]
    }
   ],
   "source": [
    "print(qtb_good[ntag == -1])  # bad QSO, thrown out \n",
    "print(qlogN[ntag == -1])\n",
    "print(qlogNerr[ntag==-1])\n",
    "\n",
    "# 3C273 has a Lya blending in SiIV 1393, thus stronger than 1402 in logN, according to WK12. \n",
    "\n",
    "# PKS0405-123 has logN1393=13.46, consistent with Wakker+2012, but logN1402=13.24, about 0.16 dex lower than \n",
    "# WK+2012. The COS 1402 spec looks fine to me, while 1393 might have an overfit. So I think WK+2012's spec \n",
    "# of 1402 might have something weird going on. But they didn't show the original spectra, just the bin one\n",
    "# so can't check :( "
   ]
  },
  {
   "cell_type": "code",
   "execution_count": 12,
   "metadata": {},
   "outputs": [
    {
     "name": "stdout",
     "output_type": "stream",
     "text": [
      "nid            ID              RA      DEC    ... S/N    z   MM_Ep130 N_Ep130\n",
      "--- ----------------------- -------- -------- ... ---- ----- -------- -------\n",
      "  4                 RBS2005  351.476  21.8872 ... 14.6  0.12      0.0       8\n",
      "  5              PG1211+143 183.5736  14.0537 ... 21.5  0.08      0.0       4\n",
      " 21 2MASS-J14312586+2442203 217.8578  24.7057 ... 17.2 0.406     24.7       7\n",
      " 66        IRAS-F04250-5718  66.5032 -57.2003 ... 83.1 0.104      0.0       8\n",
      "106                  MRK841  226.005  10.4378 ... 18.2 0.036      0.0       4\n",
      "115                  PDS456 262.0825 -14.2655 ...  9.3 0.184      0.0       4\n",
      "139              PG1435-067 219.5673  -6.9724 ... 16.0 0.126      0.0       4\n",
      "147             PKS0558-504  89.9475 -50.4478 ... 18.3 0.137      0.0       2\n",
      "148              PKS1136-13 174.7946 -13.8456 ... 16.8 0.556      0.0       3\n",
      "149             PKS2005-489 302.3558 -48.8316 ... 22.6 0.071      0.0       4\n",
      "177          RXJ2139.7+0246 324.9341   2.7682 ... 14.8  0.26      0.0       4\n",
      "[[13.74716078 13.87811712]\n",
      " [13.58320889 13.75752446]\n",
      " [13.77748942 13.8670469 ]\n",
      " [13.57513239 13.66722878]\n",
      " [13.88380504 14.02819464]\n",
      " [14.00011727 14.02976346]\n",
      " [13.61223118 13.69696236]\n",
      " [13.70497364 13.81457819]\n",
      " [13.83012343 13.92764902]\n",
      " [14.0001377  14.05676072]\n",
      " [13.75123905 13.83922761]]\n",
      "[0.03674993 0.03471552 0.03421397 0.0094986  0.03462756 0.0356398\n",
      " 0.04020635 0.03066197 0.02752352 0.02117206 0.04707576]\n"
     ]
    }
   ],
   "source": [
    "print(qtb_good[ntag == 1])   # saturated QSO, lower limit \n",
    "print(qlogN[ntag==1])\n",
    "print(delN_err[ntag==1])"
   ]
  },
  {
   "cell_type": "code",
   "execution_count": 13,
   "metadata": {},
   "outputs": [
    {
     "data": {
      "image/png": "[encoded data removed]",
      "text/plain": [
       "<Figure size 374.4x360 with 1 Axes>"
      ]
     },
     "metadata": {
      "needs_background": "light"
     },
     "output_type": "display_data"
    }
   ],
   "source": [
    "plt.figure(figsize=(5.2, 5))\n",
    "\n",
    "n0 = ntag == 0\n",
    "n1 = ntag == 1\n",
    "plt.errorbar(qlogN[n0, 0], qlogN[n0, 1], xerr=qlogNerr[n0, 0], yerr=qlogNerr[n0, 1],\n",
    "             fmt='o', color='k', markersize=2, alpha=0.5, label='%d, Q=0'%(qlogN[n0, 1].size))\n",
    "plt.errorbar(qlogN[n1, 0], qlogN[n1, 1], xerr=qlogNerr[n1, 0], yerr=qlogNerr[n1, 1], \n",
    "             lolims=True, xlolims=True,\n",
    "             fmt='.', markersize=2, color='r', alpha=0.5, \n",
    "             capthick=0.2, capsize=4, label='%d, Q=1'%(qlogN[n1, 1].size))\n",
    "\n",
    "#nmin, nmax = 0.9e13, 1e14\n",
    "nmin, nmax= 12.9, 14.2\n",
    "plt.plot([nmin, nmax], [nmin, nmax], color='k')\n",
    "plt.xlim(nmin, nmax)\n",
    "plt.ylim(nmin, nmax)\n",
    "plt.xlabel(r'log[$N_{1393}$ (cm$^{-2}$)]', fontsize=14)\n",
    "plt.ylabel(r'log[$N_{1402}$ (cm$^{-2}$)]', fontsize=14)\n",
    "plt.legend(loc='lower right', fontsize=12)\n",
    "plt.minorticks_on()\n",
    "plt.tight_layout()\n",
    "plt.savefig('figs/fig3.pdf')"
   ]
  },
  {
   "cell_type": "code",
   "execution_count": 14,
   "metadata": {},
   "outputs": [
    {
     "data": {
      "image/png": "[encoded data removed]",
      "text/plain": [
       "<Figure size 360x360 with 1 Axes>"
      ]
     },
     "metadata": {
      "needs_background": "light"
     },
     "output_type": "display_data"
    }
   ],
   "source": [
    "plt.figure(figsize=(5, 5))\n",
    "plt.errorbar(qN[n0, 0], qN[n0, 1], xerr=qNerr[n0, 0], yerr=qNerr[n0, 1], \n",
    "             fmt='o', color='k', markersize=2, alpha=0.5, label='%d, Q=0'%(qlogN[n0, 1].size))\n",
    "plt.errorbar(qN[n1, 0], qN[n1, 1], xerr=qNerr[n1, 0], yerr=qNerr[n1, 1], lolims=True, xlolims=True,\n",
    "             fmt='.', markersize=2, color='r', alpha=0.5, \n",
    "             capthick=0.2, capsize=4, label='%d, Q=1'%(qlogN[n1, 1].size))\n",
    "\n",
    "nmin, nmax = 5e12, 1.25e14\n",
    "plt.plot([nmin, nmax], [nmin, nmax], color='k')\n",
    "plt.xlim(nmin, nmax)\n",
    "plt.ylim(nmin, nmax)\n",
    "plt.xlabel('N1393')\n",
    "plt.ylabel('N1402')\n",
    "plt.legend(loc='lower right')\n",
    "plt.minorticks_on()"
   ]
  },
  {
   "cell_type": "markdown",
   "metadata": {},
   "source": [
    "Combine the SiIV1393 COS limit and logN difference to define the resolved and saturated QSO range "
   ]
  },
  {
   "cell_type": "code",
   "execution_count": 15,
   "metadata": {},
   "outputs": [],
   "source": [
    "def find_simbad_info(qso):\n",
    "    from astropy.table import Table \n",
    "    #alltb = Table.read('/Users/Yong/Dropbox/HSLA_Feb16/targetlists/QSOALS_sample_AllSN5above_reformat.txt', \n",
    "    #                   format='ascii', delimiter=',')\n",
    "    alltb = Table.read('cos-gal_mast_hlsp/cos-gal_qsos_list.fits', format='fits')\n",
    "    ind = np.where(alltb['ID-HSLA-V1']==qso)[0][0]\n",
    "    ra = alltb['RA(ICRS)'][ind]\n",
    "    dec = alltb['DEC(ICRS)'][ind]\n",
    "    z = alltb['z-SIMBAD'][ind]\n",
    "    simid = alltb['ID-SIMBAD'][ind]\n",
    "    \n",
    "    from astropy.coordinates import SkyCoord\n",
    "    import astropy.units as u\n",
    "    coord = SkyCoord(ra=ra*u.deg, dec=dec*u.deg, frame='icrs')\n",
    "    l = coord.galactic.l.degree\n",
    "    b = coord.galactic.b.degree\n",
    "    return ra, dec, l, b, z, simid"
   ]
  },
  {
   "cell_type": "markdown",
   "metadata": {},
   "source": [
    "#### Write a master fits table that includes linear and log column density values for each sightline"
   ]
  },
  {
   "cell_type": "code",
   "execution_count": 16,
   "metadata": {},
   "outputs": [],
   "source": [
    "### The resolve data datatable.\n",
    "ind_resolved = np.all([ntag==0, tag_good==0], axis=0) # tag_good is for flux ilmit of 0.1\n",
    "                                                      # ntag is for N1393/N1402 comparison. \n",
    "sortind = np.argsort(snr_good[ind_resolved])[::-1]\n",
    "\n",
    "qtb_resolved = qtb_good[ind_resolved][sortind]\n",
    "snr_resolved = snr_good[ind_resolved][sortind]\n",
    "\n",
    "qlogN_resolved = qlogN[ind_resolved][sortind]\n",
    "qlogNerr_resolved = qlogNerr[ind_resolved][sortind]\n",
    "\n",
    "qN_resolved = qN[ind_resolved][sortind]\n",
    "qNerr_resolved = qNerr[ind_resolved][sortind]\n",
    "\n",
    "qV_resolved = qV[ind_resolved][sortind]\n",
    "qVerr_resolved = qVerr[ind_resolved][sortind]"
   ]
  },
  {
   "cell_type": "code",
   "execution_count": 17,
   "metadata": {},
   "outputs": [],
   "source": [
    "### The saturated data value, Q=1\n",
    "ind_sat = np.all([np.logical_not(ind_resolved), ntag!=-1], axis=0) # Q=1 target \n",
    "sortind = np.argsort(snr_good[ind_sat])[::-1]\n",
    "\n",
    "qtb_sat = qtb_good[ind_sat][sortind]\n",
    "snr_sat = snr_good[ind_sat][sortind]\n",
    "\n",
    "qlogN_sat = qlogN[ind_sat][sortind]\n",
    "qlogNerr_sat = qlogNerr[ind_sat][sortind]\n",
    "\n",
    "qN_sat = qN[ind_sat][sortind]\n",
    "qNerr_sat = qNerr[ind_sat][sortind]\n",
    "\n",
    "qV_sat = qV[ind_sat][sortind]\n",
    "qVerr_sat = qVerr[ind_sat][sortind]"
   ]
  },
  {
   "cell_type": "code",
   "execution_count": 18,
   "metadata": {},
   "outputs": [],
   "source": [
    "### The bad data value, Q=-1\n",
    "ind_odd = ntag ==-1 \n",
    "qtb_odd = qtb_good[ind_odd]\n",
    "snr_odd = snr_good[ind_odd]\n",
    "\n",
    "qlogN_odd = qlogN[ind_odd]\n",
    "qlogNerr_odd = qlogNerr[ind_odd]\n",
    "\n",
    "qN_odd = qN[ind_odd]\n",
    "qNerr_odd = qNerr[ind_odd]\n",
    "\n",
    "qV_odd = qV[ind_odd]\n",
    "qVerr_odd = qVerr[ind_odd]"
   ]
  },
  {
   "cell_type": "code",
   "execution_count": 19,
   "metadata": {},
   "outputs": [],
   "source": [
    "# Now put all of them together. \n",
    "\n",
    "qid_all = np.concatenate([qtb_resolved['ID'], qtb_sat['ID'], qtb_odd['ID']]) # col2\n",
    "nid_all = np.arange(qid_all.size)+1   # col1\n",
    "snr_all = np.concatenate([snr_resolved, snr_sat, snr_odd])*np.sqrt(6)\n",
    "qua_all = np.concatenate([np.zeros(len(qtb_resolved)), np.ones(len(qtb_sat)), np.zeros(len(qtb_odd))-1])\n",
    "\n",
    "# [N, Nerr, logN, logNerr, V, Verr] for SiIV1393 line\n",
    "il = 0\n",
    "qN_LA = np.concatenate([qN_resolved[:, il], qN_sat[:, il], qN_odd[:, il]])\n",
    "qNerr_LA = np.concatenate([qNerr_resolved[:, il], qNerr_sat[:, il], qNerr_odd[:, il]])\n",
    "\n",
    "qlogN_LA = np.concatenate([qlogN_resolved[:, il], qlogN_sat[:, il], qlogN_odd[:, il]])\n",
    "qlogNerr_LA = np.concatenate([qlogNerr_resolved[:, il], qlogNerr_sat[:, il], qlogNerr_odd[:, il]])\n",
    "\n",
    "qV_LA = np.concatenate([qV_resolved[:, il], qV_sat[:, il], qV_odd[:, il]])\n",
    "qVerr_LA = np.concatenate([qVerr_resolved[:, il], qVerr_sat[:, il], qV_odd[:, il]])\n",
    "\n",
    "# Same for the SiIV 1402 line\n",
    "il = 1\n",
    "qN_LB = np.concatenate([qN_resolved[:, il], qN_sat[:, il], qN_odd[:, il]])\n",
    "qNerr_LB = np.concatenate([qNerr_resolved[:, il], qNerr_sat[:, il], qNerr_odd[:, il]])\n",
    "\n",
    "qlogN_LB = np.concatenate([qlogN_resolved[:, il], qlogN_sat[:, il], qlogN_odd[:, il]])\n",
    "qlogNerr_LB = np.concatenate([qlogNerr_resolved[:, il], qlogNerr_sat[:, il], qlogNerr_odd[:, il]])\n",
    "\n",
    "qV_LB = np.concatenate([qV_resolved[:, il], qV_sat[:, il], qV_odd[:, il]])\n",
    "qVerr_LB = np.concatenate([qVerr_resolved[:, il], qVerr_sat[:, il], qV_odd[:, il]])\n",
    "\n",
    "## coordinate information \n",
    "\n",
    "siml_all = np.zeros(qid_all.size)  # col3\n",
    "simb_all = np.zeros(qid_all.size)  # col4\n",
    "simz_all = np.zeros(qid_all.size)  # col5\n",
    "simra_all = np.zeros(qid_all.size)\n",
    "simdec_all = np.zeros(qid_all.size)\n",
    "simid_all = []\n",
    "\n",
    "for iq in range(qid_all.size):\n",
    "    qso = qid_all[iq]\n",
    "    simra, simdec, siml, simb, simz, simid = find_simbad_info(qso)\n",
    "    simra_all[iq] = simra\n",
    "    simdec_all[iq] = simdec\n",
    "    siml_all[iq] = siml\n",
    "    simb_all[iq] = simb \n",
    "    simz_all[iq] = simz\n",
    "    simid_all.append(simid)\n",
    "               \n",
    "simid_all = np.asarray(simid_all)  # col the last one"
   ]
  },
  {
   "cell_type": "code",
   "execution_count": 20,
   "metadata": {},
   "outputs": [],
   "source": [
    "from astropy.table import Table\n",
    "master = Table([nid_all, qid_all, siml_all, simb_all, simra_all, simdec_all, simz_all, snr_all, qua_all, \n",
    "                qlogN_LA, qlogNerr_LA, qN_LA, qNerr_LA, qV_LA, qVerr_LA, \n",
    "                qlogN_LB, qlogNerr_LB, qN_LB, qNerr_LB, qV_LB, qVerr_LB, \n",
    "                simid_all], \n",
    "                names=('No.', 'ID-HSLA-V1', 'Glon', 'Glat', 'RA(ICRS)', 'DEC(ICRS)', 'z', 'SNR-SiIV', 'Q', \n",
    "                       'logN_1393', 'logNsig_1393', 'N_1393', 'Nsig_1393', 'V_1393', 'Vsig_1393', \n",
    "                       'logN_1402', 'logNsig_1402', 'N_1402', 'Nsig_1402', 'V_1402', 'Vsig_1402', \n",
    "                       'ID-SIMBAD'), \n",
    "                meta={'name': 'Zheng+2018 MW CGM Table 1'})"
   ]
  },
  {
   "cell_type": "code",
   "execution_count": 21,
   "metadata": {},
   "outputs": [],
   "source": [
    "master['ID-HSLA-V1'].format = 's'\n",
    "master['Glon'].format = '10.4f'\n",
    "master['Glat'].format = '10.4f'\n",
    "master['RA(ICRS)'].format = '10.4f'\n",
    "master['DEC(ICRS)'].format = '10.4f'\n",
    "master['z'].format = '7.4f'\n",
    "master['SNR-SiIV'].format = '5.1f'\n",
    "\n",
    "master['logN_1393'].format = '5.2f'\n",
    "master['logNsig_1393'].format = '5.2f'\n",
    "master['N_1393'].format = '7.4e'\n",
    "master['Nsig_1393'].format = '7.4e'\n",
    "master['V_1393'].format = '5.1f'\n",
    "master['Vsig_1393'].format = '5.1f'\n",
    "\n",
    "master['logN_1402'].format = '5.2f'\n",
    "master['logNsig_1402'].format = '5.2f'\n",
    "master['N_1402'].format = '7.4e'\n",
    "master['Nsig_1402'].format = '7.4e'\n",
    "master['V_1402'].format = '5.1f'\n",
    "master['Vsig_1402'].format = '5.1f'"
   ]
  },
  {
   "cell_type": "code",
   "execution_count": 22,
   "metadata": {},
   "outputs": [],
   "source": [
    "master['Glon'].unit = 'degree'\n",
    "master['Glat'].unit = 'degree'\n",
    "master['RA(ICRS)'].unit = 'degree'\n",
    "master['DEC(ICRS)'].unit = 'degree'\n",
    "\n",
    "master['N_1393'].unit = 'cm^-2'\n",
    "master['Nsig_1393'].unit = 'cm^-2'\n",
    "master['V_1393'].unit = 'km/s'\n",
    "master['Vsig_1393'].unit = 'km/s'\n",
    "\n",
    "master['N_1402'].unit = 'cm^-2'\n",
    "master['Nsig_1402'].unit = 'cm^-2'\n",
    "master['V_1402'].unit = 'km/s'\n",
    "master['Vsig_1402'].unit = 'km/s'"
   ]
  },
  {
   "cell_type": "code",
   "execution_count": 23,
   "metadata": {},
   "outputs": [],
   "source": [
    "master.write('tables/Zheng18_Table1.fits')\n",
    "master.show_in_browser(jsviewer=True)"
   ]
  },
  {
   "cell_type": "code",
   "execution_count": null,
   "metadata": {},
   "outputs": [],
   "source": []
  }
 ],
 "metadata": {
  "kernelspec": {
   "display_name": "Python 3",
   "language": "python",
   "name": "python3"
  },
  "language_info": {
   "codemirror_mode": {
    "name": "ipython",
    "version": 3
   },
   "file_extension": ".py",
   "mimetype": "text/x-python",
   "name": "python",
   "nbconvert_exporter": "python",
   "pygments_lexer": "ipython3",
   "version": "3.6.6"
  }
 },
 "nbformat": 4,
 "nbformat_minor": 2
}
